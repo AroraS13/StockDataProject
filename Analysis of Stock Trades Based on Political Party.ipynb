{
 "cells": [
  {
   "cell_type": "markdown",
   "metadata": {},
   "source": [
    "# Summary of Findings\n",
    "\n",
    "\n",
    "### Introduction\n",
    "The house stock watcher API give us a full dataset of congress stock disclosures, which are mandated by the Federal Government. In project 3, we cleaned, explored, and tested this database, asking the question:\n",
    "Is there a difference in trading behavior between political parties?\n",
    "Our hypothesis test alluded to the fact that Republicans trade more money than Democrats. \n",
    "\n",
    "In this project, we will continue this analysis and build a prediction model that will answer the following question:\n",
    "\n",
    "Is is it possible to predict whether a representative is democratic or republican from their stock trades?\n",
    "\n",
    "Since we are predicting Democratic and Republican, this is a classification problem. As such, our target variable will be the Party Affiliation column we added in the last project.\n",
    "\n",
    "In this project, since we are predicting Republican vs Democrat, we aren't necessarily trying to maximize either precision or recall, because we don't prefer false positives over false negatives, or vice versa. \n",
    "\n",
    "Thus, a good evaluation metric for this instance would be the f1 score, which uses the harmonic mean of precision and recall. Although our data is imbalanced to a certain extent, let's also keep an eye on accuracy. \n",
    "\n",
    "### Baseline Model\n",
    "For the Baseline Model, I wanted to choose interesting features that didn't require too much feature engineering so that I could further expand on them in the final model.\n",
    "\n",
    "I began with three features that seemed like the may have had some significance: District(Nominal), Type(Nominal), and amount(Ordinal)\n",
    "\n",
    "According to the sklearn documentation, for this kind of classification problem, you should first try LinearSVC classification model, so I chose that as my first model. \n",
    "\n",
    "Upon running the model, I was immediately given test accuracy of 0.98, and a f1_score of 0.998. (See Below)\n",
    "\n",
    "How is this possible? Had we already found the best model for this question?\n",
    "\n",
    "Unfortunately, even with a train accuracy of 0.99 and a test accuracy of 0.98, there had to be some underlying reason that the model was giving such a high result \n",
    "\n",
    "Looking at the district column tells us the whole story. The stock data that we have only goes back about two years, to January 2020. Thus, in the stock trades that have happened in that time, the representatives have most probably not changed office, and thus certain districts will always either be republican or democratic. The model was memorizing this information, and whenever we gave it a district from the test set, it knew what political party they were in because it had never seen the other party in these districts. If we had a lot more data, with many years of information, district would be more useful.\n",
    "\n",
    "Since I couldn't use district in it's current state, I decided to save it for further engineering in the final model. \n",
    "\n",
    "After taking away the district, my baseline model was left with two features: type(Nominal) and amount(Ordinal)\n",
    "\n",
    "The model gave training accuracy of 0.69699 and a testing accuracy of 0.69696, along with a f1 score of 0.401.\n",
    "Although this model is in no way at it's max effectiveness yet, it is more in line with what we expected to see at this stage. \n",
    "\n",
    "We know that republicans make up 1/3 of this dataset, with the rest being democrats. The accuracy also lines up closely with 70%, so there is a chance that this dataset is almost always guessing democrat, and only getting the republicans wrong, which still gets it an accuracy of around 70%. This is why it's also important to look at our main statistic, the f1 score, which in this case is quite low, at 0.4. We will work on raising this score in the final model.\n",
    "\n",
    "### Final Model\n",
    "For the final model, we want to focus on raising the f1 score.\n",
    "I first needed to assess my choice of model. So far, I had used LinearSVC to conduct my predictions, and while it was predicting with relatively high accuracy, I wanted a model that would increase my f1 score as well. Thus, I consulted the sklearn documentation which reccomends using KNeighbors after LinearSVC. I also like KNeighbors because it doesn't assume anything about the data. \n",
    "\n",
    "During our EDA in Project 03, we found that there may be a correlation between the month of the trade and the political party, so I wanted to use month in the final model as a nominal, one-hot encoded feature. We also saw in the last project that certain parties tend to prefer certain stocks and sectors, so I though ticker may be helpful as well \n",
    "Since both of these features contained NaNs, I had to do some quick data cleaning.\n",
    "Instead of the string, \"amount\" column, I decided to use the \"amounts(lower estimate)\" column of ints, as a ordinally encoded feature. I was also curious whether the \"title\" of the representatives could play a role in determining Political Party, and so engineered a feature that found the title(nominal) and one-hot encoded it.\n",
    "\n",
    "It was now time to tackle the problem of the districts. On the surface, using the distance seems like a good idea becuase the district a representative is from can truly be a great predictor of their affiliation. However, because of the limited data we have, there's no way of using districts without the model memorizing them. Thus, I figured that if we generalized a bit, we may be able to engineer a feature that is more robust to memorization.\n",
    "I decided to make a new feature, called states. This would grab the name of the state from each district and onehot encode them.\n",
    "\n",
    "Upon seeing the results of the model, we got a very good test accuracy and f1 score, 0.98 and 0.97 respectively. However, I was still suspicous, and explored the data further to see that the state feature would also be heavily biased. Thus, I decided that the best idea would be to not use the district column altogether.\n",
    "\n",
    "This brought me to a total of 5 features for my final model.\n",
    "\n",
    "The results of my model from using the rest of the features:\n",
    "\n",
    "Training accuracy: 0.95\n",
    "\n",
    "Testing accuracy: 0.89\n",
    "\n",
    "f1-score = 0.83\n",
    "\n",
    "While the model is slighty overfit, it is still able to predict party affiliations with a high degree of accuracy, and we see a major improvement in f1 score. \n",
    "\n",
    "I then cross-validated my model using grid search and the parameters n_neighbors and tree_nodes. The grid search returned a value of 1 for both. \n",
    "\n",
    "### Fairness Evaluation\n",
    "I lastly needed to asses my model for fairness. Looking at the distribution of the dataset, the amounts(lower estimate), there are far more values under 15000 than over 15000, at a 3:1 ratio. I wanted to make sure that the model was fair, and wasn't unfairly assuming the party based on the amount they traded.\n",
    "\n",
    "I decided that I would split my data based on the amount of money of the trade, to answer the question:\n",
    "\n",
    "Does my model fairly predict based on amount of money traded?\n",
    "\n",
    "I split my data, with one table with amounts <= 15000, and the other with amounts > 15000\n",
    "\n",
    "My hypothesis were as follows:\n",
    "\n",
    "    Null: my model is fair; the precision of the two tables are roughly the same\n",
    "    \n",
    "    Alternative: my model is unfair; the precision for the amounts(less than 15000) is higher than the precision for the (amounts greater than 15000)\n",
    "\n",
    "For this permutation test, I decided to use the difference of precisions between amounts <= 15000 and amounts > 15000. My observed statistic was -0.059, which meant that there was a 5 percent difference in precisions between the two in the observed set.\n",
    "After running the permutation test, I recieved a P-value of 0.05 which meant that this difference in precision was only randomly possible 5% of the time. Thus, I must reject my null hypothesis which alludes to the fact that there is bias in my model based on amount of money traded."
   ]
  },
  {
   "cell_type": "code",
   "execution_count": null,
   "metadata": {},
   "outputs": [],
   "source": []
  },
  {
   "cell_type": "markdown",
   "metadata": {},
   "source": [
    "# Code"
   ]
  },
  {
   "cell_type": "code",
   "execution_count": 823,
   "metadata": {},
   "outputs": [],
   "source": [
    "import matplotlib.pyplot as plt\n",
    "import numpy as np\n",
    "import os\n",
    "import pandas as pd\n",
    "import seaborn as sns\n",
    "import requests\n",
    "import json\n",
    "import warnings\n",
    "from sklearn.pipeline import Pipeline\n",
    "from sklearn.neighbors import KNeighborsClassifier\n",
    "from sklearn.preprocessing import FunctionTransformer\n",
    "from sklearn.preprocessing import OneHotEncoder\n",
    "from sklearn.compose import ColumnTransformer\n",
    "from sklearn.preprocessing import OrdinalEncoder\n",
    "from sklearn.model_selection import train_test_split\n",
    "from sklearn.metrics import accuracy_score, confusion_matrix, f1_score, precision_score\n",
    "from sklearn.model_selection import GridSearchCV\n",
    "from sklearn.svm import LinearSVC\n",
    "#warnings.filterwarnings('ignore')\n",
    "%matplotlib inline\n",
    "%config InlineBackend.figure_format = 'retina'  # Higher resolution figures"
   ]
  },
  {
   "cell_type": "code",
   "execution_count": 899,
   "metadata": {},
   "outputs": [],
   "source": [
    "response = requests.get('https://house-stock-watcher-data.s3-us-west-2.amazonaws.com/data/all_transactions.json')\n",
    "stocks = pd.read_json(response.content)"
   ]
  },
  {
   "cell_type": "code",
   "execution_count": 900,
   "metadata": {},
   "outputs": [],
   "source": [
    "#Use same cleaning as project 3\n",
    "#clean() function is at the bottom of the project\n",
    "stocks = clean(stocks)"
   ]
  },
  {
   "cell_type": "code",
   "execution_count": 901,
   "metadata": {},
   "outputs": [
    {
     "data": {
      "text/html": [
       "<div>\n",
       "<style scoped>\n",
       "    .dataframe tbody tr th:only-of-type {\n",
       "        vertical-align: middle;\n",
       "    }\n",
       "\n",
       "    .dataframe tbody tr th {\n",
       "        vertical-align: top;\n",
       "    }\n",
       "\n",
       "    .dataframe thead th {\n",
       "        text-align: right;\n",
       "    }\n",
       "</style>\n",
       "<table border=\"1\" class=\"dataframe\">\n",
       "  <thead>\n",
       "    <tr style=\"text-align: right;\">\n",
       "      <th></th>\n",
       "      <th>disclosure_year</th>\n",
       "      <th>disclosure_date</th>\n",
       "      <th>transaction_date</th>\n",
       "      <th>owner</th>\n",
       "      <th>ticker</th>\n",
       "      <th>asset_description</th>\n",
       "      <th>type</th>\n",
       "      <th>amount</th>\n",
       "      <th>representative</th>\n",
       "      <th>district</th>\n",
       "      <th>ptr_link</th>\n",
       "      <th>cap_gains_over_200_usd</th>\n",
       "      <th>full_name</th>\n",
       "      <th>Party Affiliation</th>\n",
       "      <th>month</th>\n",
       "      <th>amounts(lower estimate)</th>\n",
       "    </tr>\n",
       "  </thead>\n",
       "  <tbody>\n",
       "    <tr>\n",
       "      <th>0</th>\n",
       "      <td>2021.0</td>\n",
       "      <td>2021-10-04</td>\n",
       "      <td>2021-09-27</td>\n",
       "      <td>joint</td>\n",
       "      <td>BP</td>\n",
       "      <td>BP plc</td>\n",
       "      <td>purchase</td>\n",
       "      <td>$1,001 - $15,000</td>\n",
       "      <td>Hon. Virginia Foxx</td>\n",
       "      <td>NC05</td>\n",
       "      <td>https://disclosures-clerk.house.gov/public_dis...</td>\n",
       "      <td>False</td>\n",
       "      <td>virginia foxx</td>\n",
       "      <td>republican</td>\n",
       "      <td>9.0</td>\n",
       "      <td>1001</td>\n",
       "    </tr>\n",
       "    <tr>\n",
       "      <th>1</th>\n",
       "      <td>2021.0</td>\n",
       "      <td>2021-10-04</td>\n",
       "      <td>2021-09-27</td>\n",
       "      <td>joint</td>\n",
       "      <td>BP</td>\n",
       "      <td>BP plc</td>\n",
       "      <td>purchase</td>\n",
       "      <td>$1,001 - $15,000</td>\n",
       "      <td>Hon. Virginia Foxx</td>\n",
       "      <td>NC05</td>\n",
       "      <td>https://disclosures-clerk.house.gov/public_dis...</td>\n",
       "      <td>False</td>\n",
       "      <td>virginia foxx</td>\n",
       "      <td>republican</td>\n",
       "      <td>9.0</td>\n",
       "      <td>1001</td>\n",
       "    </tr>\n",
       "    <tr>\n",
       "      <th>2</th>\n",
       "      <td>2021.0</td>\n",
       "      <td>2021-10-04</td>\n",
       "      <td>2021-09-13</td>\n",
       "      <td>joint</td>\n",
       "      <td>XOM</td>\n",
       "      <td>Exxon Mobil Corporation</td>\n",
       "      <td>purchase</td>\n",
       "      <td>$1,001 - $15,000</td>\n",
       "      <td>Hon. Virginia Foxx</td>\n",
       "      <td>NC05</td>\n",
       "      <td>https://disclosures-clerk.house.gov/public_dis...</td>\n",
       "      <td>False</td>\n",
       "      <td>virginia foxx</td>\n",
       "      <td>republican</td>\n",
       "      <td>9.0</td>\n",
       "      <td>1001</td>\n",
       "    </tr>\n",
       "    <tr>\n",
       "      <th>3</th>\n",
       "      <td>2021.0</td>\n",
       "      <td>2021-10-04</td>\n",
       "      <td>2021-09-13</td>\n",
       "      <td>joint</td>\n",
       "      <td>XOM</td>\n",
       "      <td>Exxon Mobil Corporation</td>\n",
       "      <td>purchase</td>\n",
       "      <td>$1,001 - $15,000</td>\n",
       "      <td>Hon. Virginia Foxx</td>\n",
       "      <td>NC05</td>\n",
       "      <td>https://disclosures-clerk.house.gov/public_dis...</td>\n",
       "      <td>False</td>\n",
       "      <td>virginia foxx</td>\n",
       "      <td>republican</td>\n",
       "      <td>9.0</td>\n",
       "      <td>1001</td>\n",
       "    </tr>\n",
       "    <tr>\n",
       "      <th>4</th>\n",
       "      <td>2021.0</td>\n",
       "      <td>2021-10-04</td>\n",
       "      <td>2021-09-10</td>\n",
       "      <td>joint</td>\n",
       "      <td>ILPT</td>\n",
       "      <td>Industrial Logistics Properties Trust - Common...</td>\n",
       "      <td>purchase</td>\n",
       "      <td>$15,001 - $50,000</td>\n",
       "      <td>Hon. Virginia Foxx</td>\n",
       "      <td>NC05</td>\n",
       "      <td>https://disclosures-clerk.house.gov/public_dis...</td>\n",
       "      <td>False</td>\n",
       "      <td>virginia foxx</td>\n",
       "      <td>republican</td>\n",
       "      <td>9.0</td>\n",
       "      <td>15001</td>\n",
       "    </tr>\n",
       "  </tbody>\n",
       "</table>\n",
       "</div>"
      ],
      "text/plain": [
       "   disclosure_year disclosure_date transaction_date  owner ticker  \\\n",
       "0           2021.0      2021-10-04       2021-09-27  joint     BP   \n",
       "1           2021.0      2021-10-04       2021-09-27  joint     BP   \n",
       "2           2021.0      2021-10-04       2021-09-13  joint    XOM   \n",
       "3           2021.0      2021-10-04       2021-09-13  joint    XOM   \n",
       "4           2021.0      2021-10-04       2021-09-10  joint   ILPT   \n",
       "\n",
       "                                   asset_description      type  \\\n",
       "0                                             BP plc  purchase   \n",
       "1                                             BP plc  purchase   \n",
       "2                            Exxon Mobil Corporation  purchase   \n",
       "3                            Exxon Mobil Corporation  purchase   \n",
       "4  Industrial Logistics Properties Trust - Common...  purchase   \n",
       "\n",
       "              amount      representative district  \\\n",
       "0   $1,001 - $15,000  Hon. Virginia Foxx     NC05   \n",
       "1   $1,001 - $15,000  Hon. Virginia Foxx     NC05   \n",
       "2   $1,001 - $15,000  Hon. Virginia Foxx     NC05   \n",
       "3   $1,001 - $15,000  Hon. Virginia Foxx     NC05   \n",
       "4  $15,001 - $50,000  Hon. Virginia Foxx     NC05   \n",
       "\n",
       "                                            ptr_link cap_gains_over_200_usd  \\\n",
       "0  https://disclosures-clerk.house.gov/public_dis...                  False   \n",
       "1  https://disclosures-clerk.house.gov/public_dis...                  False   \n",
       "2  https://disclosures-clerk.house.gov/public_dis...                  False   \n",
       "3  https://disclosures-clerk.house.gov/public_dis...                  False   \n",
       "4  https://disclosures-clerk.house.gov/public_dis...                  False   \n",
       "\n",
       "       full_name Party Affiliation  month  amounts(lower estimate)  \n",
       "0  virginia foxx        republican    9.0                     1001  \n",
       "1  virginia foxx        republican    9.0                     1001  \n",
       "2  virginia foxx        republican    9.0                     1001  \n",
       "3  virginia foxx        republican    9.0                     1001  \n",
       "4  virginia foxx        republican    9.0                    15001  "
      ]
     },
     "execution_count": 901,
     "metadata": {},
     "output_type": "execute_result"
    }
   ],
   "source": [
    "stocks.head()"
   ]
  },
  {
   "cell_type": "markdown",
   "metadata": {},
   "source": [
    "# Baseline Model"
   ]
  },
  {
   "cell_type": "markdown",
   "metadata": {},
   "source": [
    "For the Baseline Model, I wanted to choose interesting features that didn't require too much feature engineering so that I could further expand on them in the final model.\n",
    "\n",
    "I began with three features that seemed like the may have had some significance: District(Nominal), Type(Nominal), and amount(Ordinal)"
   ]
  },
  {
   "cell_type": "code",
   "execution_count": 358,
   "metadata": {},
   "outputs": [],
   "source": [
    "#Create relevant dataframes\n",
    "X = stocks.loc[:, {'type', 'amount', 'district'}]\n",
    "y = stocks['Party Affiliation'].replace({'republican' : 1, 'democrat' : 0})\n",
    "#Train, test, split\n",
    "X_train, X_test, y_train, y_test = train_test_split(X, y, test_size = 0.3)"
   ]
  },
  {
   "cell_type": "code",
   "execution_count": 388,
   "metadata": {},
   "outputs": [
    {
     "data": {
      "text/plain": [
       "Pipeline(steps=[('preprocessor',\n",
       "                 ColumnTransformer(transformers=[('nominal',\n",
       "                                                  Pipeline(steps=[('one-hot',\n",
       "                                                                   OneHotEncoder(handle_unknown='ignore'))]),\n",
       "                                                  ['type', 'district']),\n",
       "                                                 ('ordinal',\n",
       "                                                  Pipeline(steps=[('ordinal',\n",
       "                                                                   OrdinalEncoder())]),\n",
       "                                                  ['amount'])])),\n",
       "                ('clf', LinearSVC())])"
      ]
     },
     "execution_count": 388,
     "metadata": {},
     "output_type": "execute_result"
    }
   ],
   "source": [
    "#Baseline model\n",
    "#district was used at first, and then removed\n",
    "nominal = ['type']#,district\n",
    "nominal_transformer = Pipeline(steps=[\n",
    "    ('one-hot', OneHotEncoder(handle_unknown='ignore'))\n",
    "])\n",
    "ordinal = ['amount']\n",
    "ordinal_transformer = Pipeline(steps=[\n",
    "    ('ordinal', OrdinalEncoder())\n",
    "])\n",
    "preproc = ColumnTransformer(\n",
    "    transformers = [\n",
    "        ('nominal', nominal_transformer, nominal),\n",
    "        ('ordinal', ordinal_transformer, ordinal)\n",
    "    ]\n",
    ")\n",
    "model = Pipeline(steps=[\n",
    "    ('preprocessor', preproc),\n",
    "    ('clf', LinearSVC())\n",
    "])\n",
    "model.fit(X_train, y_train)"
   ]
  },
  {
   "cell_type": "markdown",
   "metadata": {},
   "source": [
    "### First model"
   ]
  },
  {
   "cell_type": "markdown",
   "metadata": {},
   "source": [
    "Upon using the district column, I was met with an extremely high testing and training accuracy, and a very high f score. Looking at the confusion matrix showed me that I only got 6 wrong. How was this even possible?\n",
    "\n",
    "The stock data that we have only goes back about two years, to January 2020. Thus, in the stock trades that have happened in that time, the representatives have most probably not changed office, and thus certain districts will always either be republican or democratic. The model was memorizing this information, and whenever we gave it a district from the test set, it knew what political party they were in because it had never seen the other party in these districts. If we had a lot more data, with many years of information, district would be more useful."
   ]
  },
  {
   "cell_type": "code",
   "execution_count": 373,
   "metadata": {},
   "outputs": [
    {
     "data": {
      "text/plain": [
       "0.9995289684408856"
      ]
     },
     "execution_count": 373,
     "metadata": {},
     "output_type": "execute_result"
    }
   ],
   "source": [
    "#Training accuracy\n",
    "model.score(X_train, y_train)"
   ]
  },
  {
   "cell_type": "code",
   "execution_count": 374,
   "metadata": {},
   "outputs": [
    {
     "data": {
      "text/plain": [
       "0.999057936881771"
      ]
     },
     "execution_count": 374,
     "metadata": {},
     "output_type": "execute_result"
    }
   ],
   "source": [
    "#Test accuracy\n",
    "model.score(X_test, y_test)"
   ]
  },
  {
   "cell_type": "code",
   "execution_count": 375,
   "metadata": {},
   "outputs": [],
   "source": [
    "pred = model.predict(X_test)"
   ]
  },
  {
   "cell_type": "code",
   "execution_count": 376,
   "metadata": {},
   "outputs": [
    {
     "data": {
      "text/plain": [
       "0.9986382206082615"
      ]
     },
     "execution_count": 376,
     "metadata": {},
     "output_type": "execute_result"
    }
   ],
   "source": [
    "#f1_score\n",
    "f1_score(y_test, pred)"
   ]
  },
  {
   "cell_type": "code",
   "execution_count": 377,
   "metadata": {},
   "outputs": [
    {
     "data": {
      "text/plain": [
       "array([[4163,    6],\n",
       "       [   0, 2200]])"
      ]
     },
     "execution_count": 377,
     "metadata": {},
     "output_type": "execute_result"
    }
   ],
   "source": [
    "#Confusion Matrix\n",
    "confusion_matrix(y_test, pred)"
   ]
  },
  {
   "cell_type": "markdown",
   "metadata": {},
   "source": [
    "### Baseline Model"
   ]
  },
  {
   "cell_type": "markdown",
   "metadata": {},
   "source": [
    "I decided to save the district column for later and use only the two other features. From this I got the following results:"
   ]
  },
  {
   "cell_type": "code",
   "execution_count": 360,
   "metadata": {},
   "outputs": [
    {
     "data": {
      "text/plain": [
       "0.6969921270439405"
      ]
     },
     "execution_count": 360,
     "metadata": {},
     "output_type": "execute_result"
    }
   ],
   "source": [
    "#new accuracy\n",
    "new_model.score(X_train, y_train)"
   ]
  },
  {
   "cell_type": "code",
   "execution_count": 361,
   "metadata": {},
   "outputs": [
    {
     "data": {
      "text/plain": [
       "0.6966556759302873"
      ]
     },
     "execution_count": 361,
     "metadata": {},
     "output_type": "execute_result"
    }
   ],
   "source": [
    "#new accuracy\n",
    "new_model.score(X_test, y_test)"
   ]
  },
  {
   "cell_type": "code",
   "execution_count": 369,
   "metadata": {},
   "outputs": [],
   "source": [
    "pred = model.predict(X_test)"
   ]
  },
  {
   "cell_type": "code",
   "execution_count": 370,
   "metadata": {},
   "outputs": [
    {
     "data": {
      "text/plain": [
       "0.40148698884758366"
      ]
     },
     "execution_count": 370,
     "metadata": {},
     "output_type": "execute_result"
    }
   ],
   "source": [
    "#f1_score\n",
    "f1_score(y_test, pred)"
   ]
  },
  {
   "cell_type": "code",
   "execution_count": 371,
   "metadata": {},
   "outputs": [
    {
     "data": {
      "text/plain": [
       "array([[3789,  380],\n",
       "       [1552,  648]])"
      ]
     },
     "execution_count": 371,
     "metadata": {},
     "output_type": "execute_result"
    }
   ],
   "source": [
    "#Confusion Matrix\n",
    "confusion_matrix(y_test, pred)"
   ]
  },
  {
   "cell_type": "markdown",
   "metadata": {},
   "source": [
    "While this model isn't extremely effective, it is more in line with what we expect to see. We will work on improving it in the final model."
   ]
  },
  {
   "cell_type": "markdown",
   "metadata": {},
   "source": [
    "# Final Model"
   ]
  },
  {
   "cell_type": "markdown",
   "metadata": {},
   "source": [
    "For the final model, I want to use month, ticker, amount(lower estimate), type, representative, and district, so we must first do some data cleaning"
   ]
  },
  {
   "cell_type": "markdown",
   "metadata": {},
   "source": [
    "Since the months column has missingness, we must first do something about those values. Since only a very tiny percentage of months are missing, we should be able to delete these rows without a major impact on performance. Looking below, we see that out of the three representatives that have missing months, only a very small percentage of those values would be removed, so it most probably won't have major reprecussions with the prediction accuracy"
   ]
  },
  {
   "cell_type": "code",
   "execution_count": 902,
   "metadata": {},
   "outputs": [
    {
     "data": {
      "text/plain": [
       "fred upton     0.050000\n",
       "james banks    0.011111\n",
       "susie lee      0.000806\n",
       "Name: full_name, dtype: float64"
      ]
     },
     "execution_count": 902,
     "metadata": {},
     "output_type": "execute_result"
    }
   ],
   "source": [
    "missing = stocks[stocks.month.isna()].full_name\n",
    "missing.value_counts()/stocks.set_index('full_name').loc[missing].reset_index().full_name.value_counts()"
   ]
  },
  {
   "cell_type": "code",
   "execution_count": 903,
   "metadata": {},
   "outputs": [
    {
     "data": {
      "text/plain": [
       "0"
      ]
     },
     "execution_count": 903,
     "metadata": {},
     "output_type": "execute_result"
    }
   ],
   "source": [
    "stocks = stocks.drop(stocks[stocks.month.isna()].index)\n",
    "stocks.month.isna().sum()"
   ]
  },
  {
   "cell_type": "markdown",
   "metadata": {},
   "source": [
    "Ticker has missingness as well, with approximately 8% of its values having missing tickers. I grouped by the asset name, and decided to remove only the trades that had a missing ticker that couldn't be imputed from the rest of the data. I then imputed the rest of the ticker names"
   ]
  },
  {
   "cell_type": "code",
   "execution_count": 824,
   "metadata": {},
   "outputs": [
    {
     "data": {
      "text/plain": [
       "0.08874234573716439"
      ]
     },
     "execution_count": 824,
     "metadata": {},
     "output_type": "execute_result"
    }
   ],
   "source": [
    "#proportion of missing ticker names\n",
    "stocks['ticker'].isna().sum()/stocks.shape[0]"
   ]
  },
  {
   "cell_type": "code",
   "execution_count": 825,
   "metadata": {},
   "outputs": [
    {
     "data": {
      "text/html": [
       "<div>\n",
       "<style scoped>\n",
       "    .dataframe tbody tr th:only-of-type {\n",
       "        vertical-align: middle;\n",
       "    }\n",
       "\n",
       "    .dataframe tbody tr th {\n",
       "        vertical-align: top;\n",
       "    }\n",
       "\n",
       "    .dataframe thead th {\n",
       "        text-align: right;\n",
       "    }\n",
       "</style>\n",
       "<table border=\"1\" class=\"dataframe\">\n",
       "  <thead>\n",
       "    <tr style=\"text-align: right;\">\n",
       "      <th></th>\n",
       "      <th>index</th>\n",
       "      <th>asset_description_x</th>\n",
       "      <th>asset_description_y</th>\n",
       "    </tr>\n",
       "  </thead>\n",
       "  <tbody>\n",
       "    <tr>\n",
       "      <th>0</th>\n",
       "      <td>BLF FedFund TDDXX</td>\n",
       "      <td>56</td>\n",
       "      <td>56</td>\n",
       "    </tr>\n",
       "    <tr>\n",
       "      <th>1</th>\n",
       "      <td>National Fuel Gas Company</td>\n",
       "      <td>36</td>\n",
       "      <td>16</td>\n",
       "    </tr>\n",
       "    <tr>\n",
       "      <th>2</th>\n",
       "      <td>Philip Morris International Inc</td>\n",
       "      <td>32</td>\n",
       "      <td>2</td>\n",
       "    </tr>\n",
       "    <tr>\n",
       "      <th>3</th>\n",
       "      <td>Netflix Inc</td>\n",
       "      <td>28</td>\n",
       "      <td>2</td>\n",
       "    </tr>\n",
       "    <tr>\n",
       "      <th>4</th>\n",
       "      <td>BLF FedFund TDD XX</td>\n",
       "      <td>14</td>\n",
       "      <td>14</td>\n",
       "    </tr>\n",
       "    <tr>\n",
       "      <th>...</th>\n",
       "      <td>...</td>\n",
       "      <td>...</td>\n",
       "      <td>...</td>\n",
       "    </tr>\n",
       "    <tr>\n",
       "      <th>857</th>\n",
       "      <td>SRH Hospital 1% Interest</td>\n",
       "      <td>1</td>\n",
       "      <td>1</td>\n",
       "    </tr>\n",
       "    <tr>\n",
       "      <th>858</th>\n",
       "      <td>PLACER CA UN HIGH SCHOOL DIST</td>\n",
       "      <td>1</td>\n",
       "      <td>1</td>\n",
       "    </tr>\n",
       "    <tr>\n",
       "      <th>859</th>\n",
       "      <td>First Florida Bank / 5,000 shares of First Flo...</td>\n",
       "      <td>1</td>\n",
       "      <td>1</td>\n",
       "    </tr>\n",
       "    <tr>\n",
       "      <th>860</th>\n",
       "      <td>Note Receivable- Energy Holdings LLC</td>\n",
       "      <td>1</td>\n",
       "      <td>1</td>\n",
       "    </tr>\n",
       "    <tr>\n",
       "      <th>861</th>\n",
       "      <td>Metallic Minerals Corp.</td>\n",
       "      <td>1</td>\n",
       "      <td>1</td>\n",
       "    </tr>\n",
       "  </tbody>\n",
       "</table>\n",
       "<p>862 rows × 3 columns</p>\n",
       "</div>"
      ],
      "text/plain": [
       "                                                 index  asset_description_x  \\\n",
       "0                                    BLF FedFund TDDXX                   56   \n",
       "1                            National Fuel Gas Company                   36   \n",
       "2                      Philip Morris International Inc                   32   \n",
       "3                                          Netflix Inc                   28   \n",
       "4                                   BLF FedFund TDD XX                   14   \n",
       "..                                                 ...                  ...   \n",
       "857                           SRH Hospital 1% Interest                    1   \n",
       "858                      PLACER CA UN HIGH SCHOOL DIST                    1   \n",
       "859  First Florida Bank / 5,000 shares of First Flo...                    1   \n",
       "860               Note Receivable- Energy Holdings LLC                    1   \n",
       "861                            Metallic Minerals Corp.                    1   \n",
       "\n",
       "     asset_description_y  \n",
       "0                     56  \n",
       "1                     16  \n",
       "2                      2  \n",
       "3                      2  \n",
       "4                     14  \n",
       "..                   ...  \n",
       "857                    1  \n",
       "858                    1  \n",
       "859                    1  \n",
       "860                    1  \n",
       "861                    1  \n",
       "\n",
       "[862 rows x 3 columns]"
      ]
     },
     "execution_count": 825,
     "metadata": {},
     "output_type": "execute_result"
    }
   ],
   "source": [
    "#Total number of times those tickers appear vs number of times they are missing \n",
    "na_names = stocks[stocks['ticker'].isna()]['asset_description'].value_counts()\n",
    "all_names = stocks.set_index('asset_description').loc[na_names.index].reset_index()['asset_description'].value_counts().reset_index()\n",
    "all_names = all_names.merge(na_names.reset_index(), on='index')\n",
    "all_names"
   ]
  },
  {
   "cell_type": "code",
   "execution_count": 840,
   "metadata": {},
   "outputs": [],
   "source": [
    "def clean_and_impute(stocks):\n",
    "    #get index of all tickers with null values, and make a dataframe with total count vs null count\n",
    "    na_names = stocks[stocks['ticker'].isna()]['asset_description'].value_counts()\n",
    "    all_names = stocks.set_index('asset_description').loc[na_names.index].reset_index()['asset_description'].value_counts().reset_index()\n",
    "    all_names = all_names.merge(na_names.reset_index(), on='index')\n",
    "    #For those with more than 1 original occurence, remove those who have 100% of their tickers missing\n",
    "    all_names = all_names[all_names['asset_description_x'] > 1]\n",
    "    hundred = all_names[all_names['asset_description_y']/all_names['asset_description_x'] == 1].set_index('index').index\n",
    "    remove = stocks.set_index('asset_description')\n",
    "    remove = remove.drop(hundred)\n",
    "    #Impute the rest of the stock trades missing tickers\n",
    "    removed = [remove.loc[remove[remove['ticker'].isna()].index].ticker.dropna().index]\n",
    "    tickers = remove.loc[pd.DataFrame(removed).transpose()[0].unique()]['ticker'].dropna().drop_duplicates()\n",
    "    to_impute = remove.loc[remove[remove['ticker'].isna()].reset_index()['asset_description'].value_counts().index].reset_index().asset_description.value_counts().index\n",
    "    remove = remove.drop((remove.loc[to_impute].reset_index().asset_description.value_counts() == 1)[remove.loc[to_impute].reset_index().asset_description.value_counts() == 1].index)\n",
    "    out = remove.merge(tickers, on='asset_description', how='left').reset_index()\n",
    "    out.loc[out[out.ticker_x.isna()]['ticker_x'].index, 'ticker_x'] = out.loc[out[out.ticker_x.isna()]['ticker_x'].index, 'ticker_y']\n",
    "    return out.drop({'ticker_y', 'asset_description'}, axis=1).rename(columns={'ticker_x':'ticker'})\n"
   ]
  },
  {
   "cell_type": "code",
   "execution_count": 904,
   "metadata": {},
   "outputs": [],
   "source": [
    "out = clean_and_impute(stocks)"
   ]
  },
  {
   "cell_type": "code",
   "execution_count": 842,
   "metadata": {},
   "outputs": [
    {
     "data": {
      "text/html": [
       "<div>\n",
       "<style scoped>\n",
       "    .dataframe tbody tr th:only-of-type {\n",
       "        vertical-align: middle;\n",
       "    }\n",
       "\n",
       "    .dataframe tbody tr th {\n",
       "        vertical-align: top;\n",
       "    }\n",
       "\n",
       "    .dataframe thead th {\n",
       "        text-align: right;\n",
       "    }\n",
       "</style>\n",
       "<table border=\"1\" class=\"dataframe\">\n",
       "  <thead>\n",
       "    <tr style=\"text-align: right;\">\n",
       "      <th></th>\n",
       "      <th>district</th>\n",
       "    </tr>\n",
       "  </thead>\n",
       "  <tbody>\n",
       "    <tr>\n",
       "      <th>0</th>\n",
       "      <td>NC</td>\n",
       "    </tr>\n",
       "    <tr>\n",
       "      <th>1</th>\n",
       "      <td>NC</td>\n",
       "    </tr>\n",
       "    <tr>\n",
       "      <th>2</th>\n",
       "      <td>NC</td>\n",
       "    </tr>\n",
       "    <tr>\n",
       "      <th>3</th>\n",
       "      <td>NC</td>\n",
       "    </tr>\n",
       "    <tr>\n",
       "      <th>4</th>\n",
       "      <td>NC</td>\n",
       "    </tr>\n",
       "  </tbody>\n",
       "</table>\n",
       "</div>"
      ],
      "text/plain": [
       "  district\n",
       "0       NC\n",
       "1       NC\n",
       "2       NC\n",
       "3       NC\n",
       "4       NC"
      ]
     },
     "execution_count": 842,
     "metadata": {},
     "output_type": "execute_result"
    }
   ],
   "source": [
    "#Finds the state from a district\n",
    "def find_state(X):\n",
    "    X = pd.DataFrame(X)\n",
    "    return X.district.str[:2].to_frame()\n",
    "find_state(out[['district']]).head()"
   ]
  },
  {
   "cell_type": "code",
   "execution_count": 843,
   "metadata": {},
   "outputs": [
    {
     "data": {
      "text/html": [
       "<div>\n",
       "<style scoped>\n",
       "    .dataframe tbody tr th:only-of-type {\n",
       "        vertical-align: middle;\n",
       "    }\n",
       "\n",
       "    .dataframe tbody tr th {\n",
       "        vertical-align: top;\n",
       "    }\n",
       "\n",
       "    .dataframe thead th {\n",
       "        text-align: right;\n",
       "    }\n",
       "</style>\n",
       "<table border=\"1\" class=\"dataframe\">\n",
       "  <thead>\n",
       "    <tr style=\"text-align: right;\">\n",
       "      <th></th>\n",
       "      <th>representative</th>\n",
       "    </tr>\n",
       "  </thead>\n",
       "  <tbody>\n",
       "    <tr>\n",
       "      <th>0</th>\n",
       "      <td>Hon</td>\n",
       "    </tr>\n",
       "    <tr>\n",
       "      <th>1</th>\n",
       "      <td>Hon</td>\n",
       "    </tr>\n",
       "    <tr>\n",
       "      <th>2</th>\n",
       "      <td>Hon</td>\n",
       "    </tr>\n",
       "    <tr>\n",
       "      <th>3</th>\n",
       "      <td>Hon</td>\n",
       "    </tr>\n",
       "    <tr>\n",
       "      <th>4</th>\n",
       "      <td>Hon</td>\n",
       "    </tr>\n",
       "  </tbody>\n",
       "</table>\n",
       "</div>"
      ],
      "text/plain": [
       "  representative\n",
       "0            Hon\n",
       "1            Hon\n",
       "2            Hon\n",
       "3            Hon\n",
       "4            Hon"
      ]
     },
     "execution_count": 843,
     "metadata": {},
     "output_type": "execute_result"
    }
   ],
   "source": [
    "#Finds the title from a representative name\n",
    "def find_title(X):\n",
    "    X = pd.DataFrame(X)\n",
    "    return X.representative.str.split().str[0].str[:-1].to_frame()\n",
    "find_title(out[['representative']]).head()"
   ]
  },
  {
   "cell_type": "code",
   "execution_count": 846,
   "metadata": {},
   "outputs": [],
   "source": [
    "X_final = out.loc[:, {'representative','ticker', 'type','month', 'district', 'amounts(lower estimate)'}]\n",
    "y_final = out['Party Affiliation'].replace({'republican' : 1, 'democrat' : 0})\n",
    "X_tr, X_t, y_tr, y_t = train_test_split(X_final, y_final, test_size=0.2)"
   ]
  },
  {
   "cell_type": "code",
   "execution_count": 847,
   "metadata": {},
   "outputs": [
    {
     "data": {
      "text/plain": [
       "Pipeline(steps=[('preprocessing',\n",
       "                 ColumnTransformer(transformers=[('title',\n",
       "                                                  Pipeline(steps=[('title',\n",
       "                                                                   FunctionTransformer(func=<function find_title at 0x2c4240d30>)),\n",
       "                                                                  ('onehot',\n",
       "                                                                   OneHotEncoder())]),\n",
       "                                                  ['representative']),\n",
       "                                                 ('amount',\n",
       "                                                  Pipeline(steps=[('amount',\n",
       "                                                                   OrdinalEncoder())]),\n",
       "                                                  ['amounts(lower estimate)']),\n",
       "                                                 ('nominal',\n",
       "                                                  Pipeline(steps=[('onehot',\n",
       "                                                                   OneHotEncoder(handle_unknown='ignore'))]),\n",
       "                                                  ['type', 'month',\n",
       "                                                   'ticker'])])),\n",
       "                ('clf', KNeighborsClassifier(leaf_size=1, n_neighbors=1))])"
      ]
     },
     "execution_count": 847,
     "metadata": {},
     "output_type": "execute_result"
    }
   ],
   "source": [
    "#Final Model\n",
    "#State was used at first, and then removed\n",
    "\n",
    "\n",
    "# state = ['district']\n",
    "# state_transform = Pipeline(steps=[\n",
    "#     ('find_state', FunctionTransformer(find_state)),\n",
    "#     ('onehot', OneHotEncoder())\n",
    "# ])\n",
    "amount = ['amounts(lower estimate)']\n",
    "amount_transform = Pipeline(steps=[\n",
    "    ('amount', OrdinalEncoder())\n",
    "])\n",
    "nom = ['type', 'month', 'ticker']\n",
    "nom_transform = Pipeline(steps=[\n",
    "    ('onehot', OneHotEncoder(handle_unknown='ignore'))\n",
    "])\n",
    "title = ['representative']\n",
    "title_transform = Pipeline(steps=[\n",
    "    ('title', FunctionTransformer(find_title)),\n",
    "    ('onehot', OneHotEncoder())\n",
    "])\n",
    "pre = ColumnTransformer([\n",
    "#     ('state', state_transform, state),\n",
    "    ('title', title_transform, title),\n",
    "    ('amount', amount_transform, amount),\n",
    "    ('nominal', nom_transform, nom)], \n",
    ")\n",
    "final_model = Pipeline(steps=[\n",
    "    ('preprocessing', pre),\n",
    "    ('clf', KNeighborsClassifier(n_neighbors=1, leaf_size=1))\n",
    "    #n_neighbors = 5 used for model with states\n",
    "    #GridSearchCV(KNeighborsClassifier(), params, cv=5)\n",
    "])\n",
    "final_model.fit(X_tr, y_tr)"
   ]
  },
  {
   "cell_type": "markdown",
   "metadata": {},
   "source": [
    "### First Model"
   ]
  },
  {
   "cell_type": "markdown",
   "metadata": {},
   "source": [
    "Using the state feature, our model gets the following scores. These are, again, very high. The question now is whether they are meaningful predictions, or if the model is still memorizing."
   ]
  },
  {
   "cell_type": "code",
   "execution_count": 565,
   "metadata": {},
   "outputs": [
    {
     "data": {
      "text/plain": [
       "0.9996130530117374"
      ]
     },
     "execution_count": 565,
     "metadata": {},
     "output_type": "execute_result"
    }
   ],
   "source": [
    "#Train accuracy\n",
    "final_model.score(X_tr, y_tr)"
   ]
  },
  {
   "cell_type": "code",
   "execution_count": 566,
   "metadata": {},
   "outputs": [
    {
     "data": {
      "text/plain": [
       "0.9842661851947382"
      ]
     },
     "execution_count": 566,
     "metadata": {},
     "output_type": "execute_result"
    }
   ],
   "source": [
    "#Test accuracy\n",
    "final_model.score(X_t, y_t)"
   ]
  },
  {
   "cell_type": "code",
   "execution_count": 567,
   "metadata": {},
   "outputs": [],
   "source": [
    "preds = final_model.predict(X_t)"
   ]
  },
  {
   "cell_type": "code",
   "execution_count": 568,
   "metadata": {},
   "outputs": [
    {
     "data": {
      "text/plain": [
       "array([[2611,   35],\n",
       "       [  26, 1205]])"
      ]
     },
     "execution_count": 568,
     "metadata": {},
     "output_type": "execute_result"
    }
   ],
   "source": [
    "#Confusion matrix\n",
    "confusion_matrix(y_t, preds)"
   ]
  },
  {
   "cell_type": "code",
   "execution_count": 569,
   "metadata": {},
   "outputs": [
    {
     "data": {
      "text/plain": [
       "0.9753136382031566"
      ]
     },
     "execution_count": 569,
     "metadata": {},
     "output_type": "execute_result"
    }
   ],
   "source": [
    "#f score\n",
    "f1_score(y_t, preds)"
   ]
  },
  {
   "cell_type": "markdown",
   "metadata": {},
   "source": [
    "I decided to perform some EDA found the following results:\n",
    "A lot of the \"State\" categories only had representatives from one party. Thus, the algorithm was still able to memorize which states represented democrat or republican. At this point, it would probably not be wise to use the district column at all"
   ]
  },
  {
   "cell_type": "code",
   "execution_count": 848,
   "metadata": {},
   "outputs": [
    {
     "data": {
      "text/plain": [
       "state\n",
       "AL        (0, 90)\n",
       "AR         (9, 0)\n",
       "AZ         (6, 0)\n",
       "CA     (3313, 43)\n",
       "CO      (86, 218)\n",
       "CT       (392, 0)\n",
       "DC         (4, 0)\n",
       "FL    (1175, 360)\n",
       "GA       (0, 270)\n",
       "HI        (18, 0)\n",
       "IA      (174, 14)\n",
       "ID        (0, 54)\n",
       "IL      (310, 48)\n",
       "IN       (2, 146)\n",
       "KS        (0, 74)\n",
       "KY      (204, 58)\n",
       "LA        (0, 18)\n",
       "MA       (622, 0)\n",
       "MD        (28, 0)\n",
       "ME        (10, 0)\n",
       "Name: Party Affiliation, dtype: object"
      ]
     },
     "execution_count": 848,
     "metadata": {},
     "output_type": "execute_result"
    }
   ],
   "source": [
    "s = stocks.copy()\n",
    "s['state'] = find_state(s)['district']\n",
    "s.groupby('state').agg(lambda x : ((x == 'democrat').sum(), (x == 'republican').sum()))['Party Affiliation'][:20]"
   ]
  },
  {
   "cell_type": "markdown",
   "metadata": {},
   "source": [
    "### Final Model"
   ]
  },
  {
   "cell_type": "markdown",
   "metadata": {},
   "source": [
    "Removing the state feature yielded the following results:\n",
    "This model is quite a bit more accurate than the baseline and has a much higher f score as well."
   ]
  },
  {
   "cell_type": "code",
   "execution_count": 849,
   "metadata": {},
   "outputs": [
    {
     "data": {
      "text/plain": [
       "0.966464594350574"
      ]
     },
     "execution_count": 849,
     "metadata": {},
     "output_type": "execute_result"
    }
   ],
   "source": [
    "#Train accuracy\n",
    "final_model.score(X_tr, y_tr)"
   ]
  },
  {
   "cell_type": "code",
   "execution_count": 850,
   "metadata": {},
   "outputs": [
    {
     "data": {
      "text/plain": [
       "0.8932164044364199"
      ]
     },
     "execution_count": 850,
     "metadata": {},
     "output_type": "execute_result"
    }
   ],
   "source": [
    "#Test accuracy\n",
    "final_model.score(X_t, y_t)"
   ]
  },
  {
   "cell_type": "code",
   "execution_count": 854,
   "metadata": {},
   "outputs": [
    {
     "data": {
      "text/plain": [
       "array([[2437,  153],\n",
       "       [ 261, 1026]])"
      ]
     },
     "execution_count": 854,
     "metadata": {},
     "output_type": "execute_result"
    }
   ],
   "source": [
    "confusion_matrix(y_t, preds)"
   ]
  },
  {
   "cell_type": "code",
   "execution_count": 853,
   "metadata": {},
   "outputs": [],
   "source": [
    "preds = final_model.predict(X_t)\n"
   ]
  },
  {
   "cell_type": "code",
   "execution_count": 855,
   "metadata": {},
   "outputs": [
    {
     "data": {
      "text/plain": [
       "0.8321167883211679"
      ]
     },
     "execution_count": 855,
     "metadata": {},
     "output_type": "execute_result"
    }
   ],
   "source": [
    "f1_score(y_t, preds)"
   ]
  },
  {
   "cell_type": "markdown",
   "metadata": {},
   "source": [
    "Running GridSearchCV(KNeighborsClassifier(), params, cv=5) yields the following results"
   ]
  },
  {
   "cell_type": "code",
   "execution_count": 514,
   "metadata": {},
   "outputs": [],
   "source": [
    "params = {'n_neighbors' : range(1, 20, 2),\n",
    "          'leaf_size' : range(1, 20, 2)\n",
    "         }"
   ]
  },
  {
   "cell_type": "code",
   "execution_count": 519,
   "metadata": {},
   "outputs": [
    {
     "data": {
      "text/plain": [
       "{'leaf_size': 1, 'n_neighbors': 1}"
      ]
     },
     "execution_count": 519,
     "metadata": {},
     "output_type": "execute_result"
    }
   ],
   "source": [
    "final_model.named_steps.clf.best_params_"
   ]
  },
  {
   "cell_type": "code",
   "execution_count": null,
   "metadata": {},
   "outputs": [],
   "source": []
  },
  {
   "cell_type": "markdown",
   "metadata": {},
   "source": [
    "### Fairness Evaluation"
   ]
  },
  {
   "cell_type": "code",
   "execution_count": 918,
   "metadata": {},
   "outputs": [
    {
     "data": {
      "text/plain": [
       "-0.10327146346062788"
      ]
     },
     "execution_count": 918,
     "metadata": {},
     "output_type": "execute_result"
    }
   ],
   "source": [
    "#Seperate into two dataframes\n",
    "X = out[out['amounts(lower estimate)'] > 15000].reset_index(drop=True)\n",
    "x = X.loc[:, {'representative','ticker', 'type','month', 'district', 'amounts(lower estimate)'}]\n",
    "x_target = X['Party Affiliation'].replace({'republican' : 1, 'democrat' : 0})\n",
    "Y = out[out['amounts(lower estimate)'] <= 15000].reset_index(drop=True)\n",
    "y = Y.loc[:, {'representative','ticker', 'type','month', 'district', 'amounts(lower estimate)'}]\n",
    "y_target = Y['Party Affiliation'].replace({'republican' : 1, 'democrat' : 0})\n",
    "final_x = final_model.fit(x, x_target)\n",
    "#find observed value\n",
    "observed = precision_score(y_target, y_model.predict(y)) - precision_score(x_target, final_x.predict(x))\n",
    "observed"
   ]
  },
  {
   "cell_type": "code",
   "execution_count": 919,
   "metadata": {},
   "outputs": [],
   "source": [
    "t = out.copy().reset_index(drop=True)\n",
    "precisions = []\n",
    "for i in range(100):\n",
    "    #Shuffle amounts(lower estimate) column\n",
    "    shuffled_amounts = t['amounts(lower estimate)'].sample(replace=False, frac=1).reset_index(drop=True)\n",
    "    shuffled = t.assign(**{'amounts(lower estimate)' : shuffled_amounts})\n",
    "    #Split dataset by amount traded\n",
    "    X = shuffled[shuffled['amounts(lower estimate)'] > 15000].reset_index(drop=True)\n",
    "    x = X.loc[:, {'representative','ticker', 'type','month', 'district', 'amounts(lower estimate)'}]\n",
    "    x_target = X['Party Affiliation'].replace({'republican' : 1, 'democrat' : 0})\n",
    "    Y = shuffled[shuffled['amounts(lower estimate)'] <= 15000].reset_index(drop=True)\n",
    "    y = Y.loc[:, {'representative','ticker', 'type','month', 'district', 'amounts(lower estimate)'}]\n",
    "    y_target = Y['Party Affiliation'].replace({'republican' : 1, 'democrat' : 0})\n",
    "    #Fit model with new data\n",
    "    final_x.fit(x, x_target)\n",
    "    y_model.fit(y, y_target)\n",
    "    #Calculate difference in precisions and add to list \n",
    "    x_pres = precision_score(x_target, final_x.predict(x))\n",
    "    y_pres = precision_score(y_target, y_model.predict(y))\n",
    "    out = y_pres - x_pres\n",
    "    precisions.append(out)"
   ]
  },
  {
   "cell_type": "code",
   "execution_count": 920,
   "metadata": {},
   "outputs": [
    {
     "data": {
      "text/plain": [
       "<matplotlib.collections.PathCollection at 0x2c890cfa0>"
      ]
     },
     "execution_count": 920,
     "metadata": {},
     "output_type": "execute_result"
    },
    {
     "data": {
      "image/png": "[encoded data removed]",
      "text/plain": [
       "<Figure size 432x288 with 1 Axes>"
      ]
     },
     "metadata": {
      "image/png": {
       "height": 248,
       "width": 392
      },
      "needs_background": "light"
     },
     "output_type": "display_data"
    }
   ],
   "source": [
    "sns.histplot(precisions)\n",
    "plt.scatter(observed, 0)"
   ]
  },
  {
   "cell_type": "code",
   "execution_count": 921,
   "metadata": {},
   "outputs": [
    {
     "data": {
      "text/plain": [
       "1.0"
      ]
     },
     "execution_count": 921,
     "metadata": {},
     "output_type": "execute_result"
    }
   ],
   "source": [
    "(precisions >= observed).mean()"
   ]
  },
  {
   "cell_type": "code",
   "execution_count": null,
   "metadata": {},
   "outputs": [],
   "source": []
  },
  {
   "cell_type": "code",
   "execution_count": 917,
   "metadata": {},
   "outputs": [],
   "source": [
    "def clean(stock_data):\n",
    "    #All cleaning code from project 03\n",
    "    res = requests.get('https://voteview.com/static/data/out/members/HSall_members.json').json()\n",
    "    parties = pd.DataFrame(res)\n",
    "    #gets representatives that are affiliated with either the democratic or republican party\n",
    "    #dems_and_reps = parties[(parties['party_code'] == 100) | (parties['party_code'] == 200)]\n",
    "    #Finds members of the 116th and 117th congresses, in order to merge with existing dataframe\n",
    "    rel_members = parties[parties['congress'] >= 116]\n",
    "    #find first and last name of congresspeople and join them together\n",
    "    last = rel_members['bioname'].str.split().str[0].str[:-1].str.lower()\n",
    "    first = rel_members['bioname'].str.split().str[1].str.lower()\n",
    "    name = first + ' ' + last\n",
    "    rel_members['full_name'] = name.str.replace(',', '')\n",
    "    #new df that holds relevant members' names and party affiliation\n",
    "    afilliation = rel_members.loc[:, {'party_code', 'full_name'}]\n",
    "    #assigns all instances of \"--\" as NaN values\n",
    "    for column in stock_data.columns:\n",
    "        stock_data.loc[stock_data[column] == '--', column] = np.NaN\n",
    "    #converts the disclosure_date column to datetime objects\n",
    "    stock_data['disclosure_date'] = pd.to_datetime(stock_data['disclosure_date'])\n",
    "    #converts the transaction_date column to datetime objects\n",
    "    stock_data['transaction_date'] = pd.to_datetime(stock_data['transaction_date'], errors = 'coerce')\n",
    "    #gets first and last name of representative and joins them together\n",
    "    f = pd.Series(stock_data['representative'].str.strip().str.lower()).str.split().str[1]\n",
    "    s = pd.Series(stock_data['representative'].str.strip().str.lower()).str.split().str[-1]\n",
    "    n = f + ' ' + s\n",
    "    stock_data['full_name'] = n\n",
    "    #joins stock_data and affiliation to give representatives party affiliations\n",
    "    stocks = pd.merge(stock_data, afilliation, how='left', on='full_name')\n",
    "    stocks = stocks.rename(columns={'party_code':'Party Affiliation'})\n",
    "    #Manually adds affiliation of representatives that were unsuccesful in the merge\n",
    "    stats = [100.0, 100.0, 100.0, 200.0, 200.0, 200.0, 200.0, 200.0, 200.0, 200.0, 200.0,200.0, 200.0, 200.0, 200.0, 200.0, 100.0, 100.0, 200.0, 200.0, 200.0, 100.0, 200.0,200.0, 100.0, 100.0, 100.0, 200.0, 200.0, 200.0, 200.0, 200.0]\n",
    "    count = 0\n",
    "    for i in stocks[stocks['Party Affiliation'].isna()]['full_name'].value_counts().index:\n",
    "        stocks.loc[stocks[stocks.loc[:,'full_name'] == i].index, 'Party Affiliation'] = stats[count]\n",
    "        count = count + 1\n",
    "    #replaces party codes for party names\n",
    "    stocks['Party Affiliation'] = stocks['Party Affiliation'].replace(100.0, 'democrat').replace(200.0, 'republican').replace(328, 'independent')\n",
    "    #adds a month column\n",
    "    stocks['month'] = pd.DatetimeIndex(stocks['transaction_date']).month\n",
    "    #adds a \n",
    "    stocks = stocks.drop(stocks[stocks['Party Affiliation'] == 'independent'].index)\n",
    "    stocks['amounts(lower estimate)'] = stocks['amount'].str.split().str[0].str[1:].str.replace(',','').astype(int)\n",
    "    return stocks"
   ]
  },
  {
   "cell_type": "code",
   "execution_count": null,
   "metadata": {},
   "outputs": [],
   "source": []
  }
 ],
 "metadata": {
  "kernelspec": {
   "display_name": "Python 3 (ipykernel)",
   "language": "python",
   "name": "python3"
  },
  "language_info": {
   "codemirror_mode": {
    "name": "ipython",
    "version": 3
   },
   "file_extension": ".py",
   "mimetype": "text/x-python",
   "name": "python",
   "nbconvert_exporter": "python",
   "pygments_lexer": "ipython3",
   "version": "3.9.12"
  }
 },
 "nbformat": 4,
 "nbformat_minor": 2
}
